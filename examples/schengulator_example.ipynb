{
 "cells": [
  {
   "cell_type": "code",
   "execution_count": 3,
   "id": "d170c31c",
   "metadata": {},
   "outputs": [],
   "source": [
    "from schengulator import SchengenStay, checkStay, checkDaysLeft, staysFromCSV"
   ]
  },
  {
   "cell_type": "code",
   "execution_count": 4,
   "id": "2b488743",
   "metadata": {},
   "outputs": [
    {
     "name": "stdout",
     "output_type": "stream",
     "text": [
      "\tDays spent in schengen areas from 2021-11-02 to 2022-05-01: 29\n",
      "All okay!\n"
     ]
    }
   ],
   "source": [
    "# Example 1. Check Schengen stays from specific date using SchengenStay obj\n",
    "# Initialise Schengen evaluation from 01/05/2022\n",
    "ss = SchengenStay('2022-05-01')\n",
    "\n",
    "# Add all stays\n",
    "ss.addStay('2021-07-01', '2021-07-15')         # Holiday in Greece\n",
    "ss.addStay('2021-09-03', '2021-09-08')         # Business trip in The Netherlands\n",
    "ss.addStay('2021-09-20', '2021-09-25')         # Visiting family in Belgium\n",
    "ss.addStay('2021-12-20', '2022-01-03')         # Family Christmas in Belgium\n",
    "ss.addStay('2022-04-18', '2022-05-01')         # Proposed holiday to Italy\n",
    "\n",
    "# Check number of days spent in Schengen on 01/05/2022\n",
    "flag = ss.checkDays()\n",
    "if flag==True:\n",
    "    print('All okay!')"
   ]
  },
  {
   "cell_type": "code",
   "execution_count": 5,
   "id": "18e0a9de",
   "metadata": {},
   "outputs": [
    {
     "name": "stdout",
     "output_type": "stream",
     "text": [
      "\n",
      "Checking stay between 2022-04-18 and 2022-05-01\n",
      "\tDays spent in schengen areas from 2021-10-20 to 2022-04-18: 16\n",
      "\tDays spent in schengen areas from 2021-10-21 to 2022-04-19: 17\n",
      "\tDays spent in schengen areas from 2021-10-22 to 2022-04-20: 18\n",
      "\tDays spent in schengen areas from 2021-10-23 to 2022-04-21: 19\n",
      "\tDays spent in schengen areas from 2021-10-24 to 2022-04-22: 20\n",
      "\tDays spent in schengen areas from 2021-10-25 to 2022-04-23: 21\n",
      "\tDays spent in schengen areas from 2021-10-26 to 2022-04-24: 22\n",
      "\tDays spent in schengen areas from 2021-10-27 to 2022-04-25: 23\n",
      "\tDays spent in schengen areas from 2021-10-28 to 2022-04-26: 24\n",
      "\tDays spent in schengen areas from 2021-10-29 to 2022-04-27: 25\n",
      "\tDays spent in schengen areas from 2021-10-30 to 2022-04-28: 26\n",
      "\tDays spent in schengen areas from 2021-10-31 to 2022-04-29: 27\n",
      "\tDays spent in schengen areas from 2021-11-01 to 2022-04-30: 28\n",
      "\tDays spent in schengen areas from 2021-11-02 to 2022-05-01: 29\n",
      "\n",
      "Checking days left from 2022-01-04\n",
      "\tDays remaining in schengen areas from 2021-07-08 to 2022-01-04: 55\n",
      "\tIf you are staying in a schengen country after 2022-01-04, you theoretically need to leave by 2022-02-28\n",
      "\tIf you are staying in a schengen country after 2022-01-04, you can actually leave by 2022-07-16\n"
     ]
    }
   ],
   "source": [
    "# Example 2. Check Schengen stays for all dates in proposed future stay\n",
    "# Create list of all stays\n",
    "trips = [['2021-07-01','2021-07-15'],         # Holiday in Greece\n",
    "        ['2021-09-03', '2021-09-08'],         # Business trip in The Netherlands\n",
    "        ['2021-09-20', '2021-09-25'],         # Visiting family in Belgium\n",
    "        ['2021-12-20', '2022-01-03'],         # Family Christmas in Belgium\n",
    "        ['2022-04-18', '2022-05-01']]         # Proposed holiday to Italy\n",
    "\n",
    "# Check if new stay is within Schengen 90-day limits\n",
    "checkStay(['2022-04-18', '2022-05-01'], trips[:-1])\n",
    "\n",
    "# See how many days left in Schengen after proposed trip\n",
    "checkDaysLeft(trips)"
   ]
  },
  {
   "cell_type": "code",
   "execution_count": 7,
   "id": "2d2d9c73",
   "metadata": {},
   "outputs": [
    {
     "name": "stdout",
     "output_type": "stream",
     "text": [
      "\n",
      "Importing stays from example_stays.csv\n",
      "\tStay #1 (2021-07-01 - 2021-07-15) Holiday in Greece\n",
      "\tStay #2 (2021-09-03 - 2021-09-08) Business trip in The Netherlands\n",
      "\tStay #3 (2021-09-20 - 2021-09-25) Visiting family in Belgium\n",
      "\tStay #4 (2021-12-20 - 2022-01-03) Family Christmas in Belgium\n",
      "\tStay #5 (2022-04-18 - 2022-05-01) Proposed holiday to Italy\n",
      "\n",
      "Checking stay between 2022-01-05 and 2022-01-20\n",
      "\tDays spent in schengen areas from 2021-07-09 to 2022-01-05: 35\n",
      "\tDays spent in schengen areas from 2021-07-10 to 2022-01-06: 35\n",
      "\tDays spent in schengen areas from 2021-07-11 to 2022-01-07: 35\n",
      "\tDays spent in schengen areas from 2021-07-12 to 2022-01-08: 35\n",
      "\tDays spent in schengen areas from 2021-07-13 to 2022-01-09: 35\n",
      "\tDays spent in schengen areas from 2021-07-14 to 2022-01-10: 35\n",
      "\tDays spent in schengen areas from 2021-07-15 to 2022-01-11: 35\n",
      "\tDays spent in schengen areas from 2021-07-16 to 2022-01-12: 35\n",
      "\tDays spent in schengen areas from 2021-07-17 to 2022-01-13: 36\n",
      "\tDays spent in schengen areas from 2021-07-18 to 2022-01-14: 37\n",
      "\tDays spent in schengen areas from 2021-07-19 to 2022-01-15: 38\n",
      "\tDays spent in schengen areas from 2021-07-20 to 2022-01-16: 39\n",
      "\tDays spent in schengen areas from 2021-07-21 to 2022-01-17: 40\n",
      "\tDays spent in schengen areas from 2021-07-22 to 2022-01-18: 41\n",
      "\tDays spent in schengen areas from 2021-07-23 to 2022-01-19: 42\n",
      "\tDays spent in schengen areas from 2021-07-24 to 2022-01-20: 43\n",
      "\n",
      "Checking days left from 2022-01-20\n",
      "\tDays remaining in schengen areas from 2021-07-24 to 2022-01-20: 47\n",
      "\tIf you are staying in a schengen country after 2022-01-20, you theoretically need to leave by 2022-03-08\n",
      "\tIf you are staying in a schengen country after 2022-01-20, you can actually leave by 2022-03-14\n"
     ]
    }
   ],
   "source": [
    "# Example 3. Check Schengen stays from CSV file\n",
    "# Import stays from csv file\n",
    "infile = 'example_stays.csv'\n",
    "csv_trips = staysFromCSV(infile)\n",
    "\n",
    "# Check if new trip is within Schengen 90-day limits\n",
    "new_trip = ['2022-01-05', '2022-01-20']\n",
    "checkStay(new_trip, csv_trips)\n",
    "\n",
    "# Check how many days left in Schengen after new trip\n",
    "csv_trips.append(new_trip)\n",
    "checkDaysLeft(csv_trips, d=new_trip[1]) "
   ]
  },
  {
   "cell_type": "code",
   "execution_count": null,
   "id": "d20a54cf",
   "metadata": {},
   "outputs": [],
   "source": []
  }
 ],
 "metadata": {
  "kernelspec": {
   "display_name": "Python 3 (ipykernel)",
   "language": "python",
   "name": "python3"
  },
  "language_info": {
   "codemirror_mode": {
    "name": "ipython",
    "version": 3
   },
   "file_extension": ".py",
   "mimetype": "text/x-python",
   "name": "python",
   "nbconvert_exporter": "python",
   "pygments_lexer": "ipython3",
   "version": "3.7.11"
  }
 },
 "nbformat": 4,
 "nbformat_minor": 5
}
